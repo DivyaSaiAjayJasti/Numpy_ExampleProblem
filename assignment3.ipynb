{
  "nbformat": 4,
  "nbformat_minor": 0,
  "metadata": {
    "colab": {
      "provenance": [],
      "authorship_tag": "ABX9TyOuu+hpNnVSkt4FpeJZGvUT",
      "include_colab_link": true
    },
    "kernelspec": {
      "name": "python3",
      "display_name": "Python 3"
    },
    "language_info": {
      "name": "python"
    }
  },
  "cells": [
    {
      "cell_type": "markdown",
      "metadata": {
        "id": "view-in-github",
        "colab_type": "text"
      },
      "source": [
        "<a href=\"https://colab.research.google.com/github/dsj12960/neural_assign_3/blob/main/assignment3.ipynb\" target=\"_parent\"><img src=\"https://colab.research.google.com/assets/colab-badge.svg\" alt=\"Open In Colab\"/></a>"
      ]
    },
    {
      "cell_type": "code",
      "execution_count": null,
      "metadata": {
        "colab": {
          "base_uri": "https://localhost:8080/"
        },
        "id": "fx4KocMHdB0r",
        "outputId": "e8dc1bf9-8274-4b56-ae8f-d1245d1f123d"
      },
      "outputs": [
        {
          "output_type": "stream",
          "name": "stdout",
          "text": [
            "Total Number of Employees are: 6\n",
            "Total Salary given to Employees: 1200000\n",
            "Average Salary is: 200000.0\n"
          ]
        }
      ],
      "source": [
        "class Employee:\n",
        "    Emp_Count = 0  \n",
        "    Total_Salary = 0\n",
        "\n",
        "    def __init__(self, name, family, salary, department):  # initializing the constructor  \n",
        "        self.name = name\n",
        "        self.family = family\n",
        "        self.salary = salary\n",
        "        self.department = department\n",
        "        Employee.Emp_Count += 1\n",
        "        Employee.Total_Salary += salary\n",
        "        # return name, family, salary, department, Employee.Emp_Count\n",
        "\n",
        "    def avg_salary(self):  # function to calculate average salary\n",
        "        avg_salary = Employee.Total_Salary / Employee.Emp_Count\n",
        "        return avg_salary\n",
        "\n",
        "\n",
        "class Full_time_Emp(Employee):  # Full Time Employee class inheriting the Employee class\n",
        "\n",
        "    def __init__(self, name, family, salary, department, emp_type):\n",
        "        Employee.__init__(self, name, family, salary, department)\n",
        "        self.emp_type = emp_type\n",
        "        # return emp_type\n",
        "\n",
        "\n",
        "E1 = Employee(\"jasti\", \"1\", 100000, \"data_engineeing\")\n",
        "E2 = Employee(\"divya\", \"2\", 200000, \"testing\")\n",
        "E3 = Employee(\"ajay\", \"3\", 300000, \"Development\")\n",
        "\n",
        "F1 = Full_time_Emp(\"jasti\", \"2\", 300000, \"software\", \"Full Time\")\n",
        "F2 = Full_time_Emp(\"divya\", \"3\", 200000, \"hardware\", \"Intern\")\n",
        "F3 = Full_time_Emp(\"ajay\", \"6\", 100000, \"backend\", \"Contract\")\n",
        "\n",
        "print(\"Total Number of Employees are:\", Employee.Emp_Count)\n",
        "print(\"Total Salary given to Employees:\", Employee.Total_Salary)\n",
        "print(\"Average Salary is:\", F3.avg_salary())  # invoking avg_salary function by using the instance"
      ]
    },
    {
      "cell_type": "code",
      "source": [
        "import numpy as np\n",
        "\n",
        "a = np.random.uniform(1, 20, 20)  # creating the random vector of size 20 having only float in the range 1-20\n",
        "print('Random vector of size  20: \\n', a)\n",
        "b = a.reshape((4, 5))  # reshaping the array to 4 by 5\n",
        "print('Reshaping the  array to 4 by 5: \\n', b)\n",
        "c = np.where(b == np.amax(b, axis=1).reshape(-1, 1), 0, b)  # replace the max in each row by 0(axis=1)\n",
        "print('Replacing the  maximum in each row by 0: \\n', c)"
      ],
      "metadata": {
        "colab": {
          "base_uri": "https://localhost:8080/"
        },
        "id": "K3_yDlTggSB4",
        "outputId": "5db17a0d-a7db-4e37-b88a-6790d8081a44"
      },
      "execution_count": null,
      "outputs": [
        {
          "output_type": "stream",
          "name": "stdout",
          "text": [
            "Random vector of size  20: \n",
            " [19.10808784  6.14643291  1.04445146  4.58969611 10.98937415 19.41221167\n",
            " 17.56330308 16.07877699 17.08863988 19.43055264  7.11856892 17.60152331\n",
            " 14.83831881 13.73695446  5.99473962 13.74141749 18.39503605 15.90932716\n",
            " 18.09285138  5.51109059]\n",
            "Reshaping the  array to 4 by 5: \n",
            " [[19.10808784  6.14643291  1.04445146  4.58969611 10.98937415]\n",
            " [19.41221167 17.56330308 16.07877699 17.08863988 19.43055264]\n",
            " [ 7.11856892 17.60152331 14.83831881 13.73695446  5.99473962]\n",
            " [13.74141749 18.39503605 15.90932716 18.09285138  5.51109059]]\n",
            "Replacing the  maximum in each row by 0: \n",
            " [[ 0.          6.14643291  1.04445146  4.58969611 10.98937415]\n",
            " [19.41221167 17.56330308 16.07877699 17.08863988  0.        ]\n",
            " [ 7.11856892  0.         14.83831881 13.73695446  5.99473962]\n",
            " [13.74141749  0.         15.90932716 18.09285138  5.51109059]]\n"
          ]
        }
      ]
    }
  ]
}